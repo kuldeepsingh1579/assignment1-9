{
 "cells": [
  {
   "cell_type": "raw",
   "id": "2f8d3a9a-d4f4-44dd-83f3-02013bcdbb68",
   "metadata": {},
   "source": [
    "Question-No.1\n",
    "\n",
    "Flask Framework--Flask is a web framework that provides libraries to build lightweight web applications in python. It is developed by 'Armin Ronacher' who leads an international group of python enthusiasts (POCCO). It is designed to make it easy to build web applications with a minimalistic and straightforward approach.\n",
    "\n",
    "Advantages of Flask Fremwork--\n",
    "1-It is a lightweight framework that offers hassle-free development\n",
    "2-Provide flexibility to the developer to experiment with their modules or architecture\n",
    "3-It is suitable for small projects\n",
    "4-Offers a built-in development server and fast debugger\n",
    "5-Easily scalable for the applications\n",
    "6-Support for secure cookies"
   ]
  },
  {
   "cell_type": "raw",
   "id": "3556a343-271d-47d1-a976-f14bfd21d1c3",
   "metadata": {},
   "source": [
    "Question-No.2"
   ]
  },
  {
   "cell_type": "markdown",
   "id": "9721644e-10ba-42ce-95cd-d19b7d34a313",
   "metadata": {},
   "source": [
    "from flask import Flask\n",
    "\n",
    "app = Flask(__name__)\n",
    "\n",
    "@app.route('/')\n",
    "def hello_world():\n",
    "    return 'Hello World!!'\n",
    "\n",
    "if __name__ == '__main__':\n",
    "    app.run()\n"
   ]
  },
  {
   "cell_type": "raw",
   "id": "71d8052b-9720-4c93-9652-7eae4af0f9ac",
   "metadata": {},
   "source": [
    "Question-no.3\n",
    "\n",
    "In Flask, app routing refers to the process of mapping URLs (Uniform Resource Locators) to specific functions  in your application. It allows you to define different routes for different URLs and associate those routes with corresponding functions that generate the response.\n",
    " Routes are created using the @app.route() decorator in Flask.The decorator is applied to a function, and it specifies the URL pattern or route that should trigger the function when accessed.\n",
    " \n",
    "Here are some reasons why we use app routes in Flask:\n",
    "1-URL Mapping\n",
    "2-Request Handling\n",
    "3-Flaxibility\n",
    "4-Readability"
   ]
  },
  {
   "cell_type": "raw",
   "id": "661af3ea-34f2-431a-bcf6-973a36ac256b",
   "metadata": {},
   "source": [
    "Question-No.4\n",
    "\n",
    "from flask import Flask\n",
    "\n",
    "app = Flask(__name__)\n",
    "\n",
    "@app.route('/welcome')\n",
    "def welcome():\n",
    "    return 'Welcome to ABC Corporation'\n",
    "\n",
    "@app.route('/')\n",
    "def company_details():\n",
    "    return '''Company Name: ABC Corporation<br>\n",
    "              Location: India<br>\n",
    "              Contact Detail: 999-999-9999'''\n",
    "\n",
    "if __name__ == '__main__':\n",
    "    app.run()\n"
   ]
  },
  {
   "cell_type": "raw",
   "id": "1d5dea53-4c36-47dc-80d8-cbb7f4aac0d6",
   "metadata": {},
   "source": [
    "Question-No.5\n",
    "\n",
    "In Flask,the 'url_for()' function is used for URL building. It generates a URL for a given endpoint (i.e., a route function) based on its name. The 'url_for()' function takes the endpoint name as its first argument and additional keyword arguments for any dynamic parts of the URL."
   ]
  }
 ],
 "metadata": {
  "kernelspec": {
   "display_name": "Python 3 (ipykernel)",
   "language": "python",
   "name": "python3"
  },
  "language_info": {
   "codemirror_mode": {
    "name": "ipython",
    "version": 3
   },
   "file_extension": ".py",
   "mimetype": "text/x-python",
   "name": "python",
   "nbconvert_exporter": "python",
   "pygments_lexer": "ipython3",
   "version": "3.10.8"
  }
 },
 "nbformat": 4,
 "nbformat_minor": 5
}
